{
 "cells": [
  {
   "cell_type": "markdown",
   "id": "14273ead",
   "metadata": {},
   "source": [
    "#                                                           Multilingual Mobile App Reviews Dataset Analysis"
   ]
  },
  {
   "cell_type": "markdown",
   "id": "8d749072",
   "metadata": {},
   "source": [
    "# column description"
   ]
  },
  {
   "cell_type": "markdown",
   "id": "2a7c55fa",
   "metadata": {},
   "source": [
    "review_id → Unique identifier for each review.\n",
    "\n",
    "user_id → Unique identifier for the user who wrote the review.\n",
    "\n",
    "app_name → Name of the mobile application being reviewed.\n",
    "\n",
    "app_category → Category/genre of the app (e.g., Games, Finance, Health).\n",
    "\n",
    "review_text → Written text of the user’s review.\n",
    "\n",
    "review_language → Language in which the review is written.\n",
    "\n",
    "rating → Star rating or numeric score given by the user.\n",
    "\n",
    "review_date → Date when the review was submitted.\n",
    "\n",
    "verified_purchase → Whether the review is from a verified purchase (Yes/No).\n",
    "\n",
    "device_type → Type of device used (e.g., Android, iOS, Tablet).\n",
    "\n",
    "num_helpful_votes → Number of people who found the review helpful.\n",
    "\n",
    "user_age → Age of the user writing the review.\n",
    "\n",
    "user_country → Country of the user.\n",
    "\n",
    "user_gender → Gender of the user.\n",
    "\n",
    "app_version → Version of the app being reviewed."
   ]
  },
  {
   "cell_type": "markdown",
   "id": "be6d14ac",
   "metadata": {},
   "source": [
    "# make observation\n",
    "\n",
    "\n",
    "\n",
    "1. Which factors do you think most strongly influence the rating of an app? Why?\n",
    "2. How might review_language affect the interpretation of user satisfaction?\n",
    "3. Explain how app_version and review_date together can show app improvement or decline.\n",
    "4. Do you think verified_purchase makes reviews more trustworthy? Justify your answer.\n",
    "5. How would you test whether device_type has an impact on app ratings?\n",
    "6. If you had to find which age group is most satisfied, what steps would you follow?\n",
    "7. How would you identify fake or unreliable reviews using num_helpful_votes and review_text?"
   ]
  },
  {
   "cell_type": "markdown",
   "id": "1c365639",
   "metadata": {},
   "source": [
    "# conclusion:\n",
    "\n",
    "The target is to find out what factors (language, gender, age, purchase status, category, version, device, etc.) most influence user ratings and satisfaction"
   ]
  },
  {
   "cell_type": "markdown",
   "id": "bcabbdf2",
   "metadata": {},
   "source": [
    "1. Suppose you are an app developer: what insights from this dataset would help you improve\n",
    "your app?\n",
    "2. Propose one machine learning project idea using this dataset and describe its expected\n",
    "outcome"
   ]
  },
  {
   "cell_type": "markdown",
   "id": "c64cd41c",
   "metadata": {},
   "source": [
    "# language reference\n",
    "\n",
    "\n",
    "\n",
    "| Code   | Language           |\n",
    "| ------ | ------------------ |\n",
    "| **no** | Norwegian          |\n",
    "| **ru** | Russian            |\n",
    "| **es** | Spanish            |\n",
    "| **vi** | Vietnamese         |\n",
    "| **tl** | Tagalog (Filipino) |\n",
    "| **th** | Thai               |\n",
    "| **da** | Danish             |\n",
    "| **ja** | Japanese           |\n",
    "| **ms** | Malay              |\n",
    "| **fr** | French             |\n",
    "| **it** | Italian            |\n",
    "| **nl** | Dutch              |\n",
    "| **hi** | Hindi              |\n",
    "| **ar** | Arabic             |\n",
    "| **zh** | Chinese            |\n",
    "| **id** | Indonesian         |\n",
    "| **pl** | Polish             |\n",
    "| **ko** | Korean             |\n",
    "| **sv** | Swedish            |\n",
    "| **pt** | Portuguese         |\n",
    "| **tr** | Turkish            |\n",
    "| **fi** | Finnish            |\n",
    "| **de** | German             |\n",
    "| **en** | English            |\n"
   ]
  },
  {
   "cell_type": "markdown",
   "id": "487bd2b8",
   "metadata": {},
   "source": []
  }
 ],
 "metadata": {
  "kernelspec": {
   "display_name": "Python 3",
   "language": "python",
   "name": "python3"
  },
  "language_info": {
   "codemirror_mode": {
    "name": "ipython",
    "version": 3
   },
   "file_extension": ".py",
   "mimetype": "text/x-python",
   "name": "python",
   "nbconvert_exporter": "python",
   "pygments_lexer": "ipython3",
   "version": "3.12.0"
  }
 },
 "nbformat": 4,
 "nbformat_minor": 5
}
